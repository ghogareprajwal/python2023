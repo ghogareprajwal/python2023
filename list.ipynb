{
 "cells": [
  {
   "cell_type": "code",
   "execution_count": 1,
   "id": "a8ddcc7e",
   "metadata": {},
   "outputs": [],
   "source": [
    "p = [12,34,455,667,'python','java',234,507789]\n"
   ]
  },
  {
   "cell_type": "code",
   "execution_count": 2,
   "id": "fcdccd1a",
   "metadata": {},
   "outputs": [
    {
     "data": {
      "text/plain": [
       "[12, 34, 455, 667, 'python', 'java', 234, 507789]"
      ]
     },
     "execution_count": 2,
     "metadata": {},
     "output_type": "execute_result"
    }
   ],
   "source": [
    "p"
   ]
  },
  {
   "cell_type": "code",
   "execution_count": 3,
   "id": "ba130f42",
   "metadata": {},
   "outputs": [],
   "source": [
    "p.insert(3,500)"
   ]
  },
  {
   "cell_type": "code",
   "execution_count": 4,
   "id": "82f2b9f2",
   "metadata": {},
   "outputs": [
    {
     "data": {
      "text/plain": [
       "[12, 34, 455, 500, 667, 'python', 'java', 234, 507789]"
      ]
     },
     "execution_count": 4,
     "metadata": {},
     "output_type": "execute_result"
    }
   ],
   "source": [
    "p"
   ]
  },
  {
   "cell_type": "code",
   "execution_count": 5,
   "id": "0bb993ff",
   "metadata": {},
   "outputs": [],
   "source": [
    "p.append('enghish')"
   ]
  },
  {
   "cell_type": "code",
   "execution_count": 6,
   "id": "e33ee2e3",
   "metadata": {},
   "outputs": [
    {
     "data": {
      "text/plain": [
       "[12, 34, 455, 500, 667, 'python', 'java', 234, 507789, 'enghish']"
      ]
     },
     "execution_count": 6,
     "metadata": {},
     "output_type": "execute_result"
    }
   ],
   "source": [
    "p"
   ]
  },
  {
   "cell_type": "code",
   "execution_count": 8,
   "id": "8278e130",
   "metadata": {},
   "outputs": [
    {
     "ename": "TypeError",
     "evalue": "list.extend() takes exactly one argument (6 given)",
     "output_type": "error",
     "traceback": [
      "\u001b[1;31m---------------------------------------------------------------------------\u001b[0m",
      "\u001b[1;31mTypeError\u001b[0m                                 Traceback (most recent call last)",
      "\u001b[1;32m~\\AppData\\Local\\Temp\\ipykernel_2284\\1391392833.py\u001b[0m in \u001b[0;36m<module>\u001b[1;34m\u001b[0m\n\u001b[1;32m----> 1\u001b[1;33m \u001b[0mp\u001b[0m\u001b[1;33m.\u001b[0m\u001b[0mextend\u001b[0m\u001b[1;33m(\u001b[0m\u001b[1;36m12\u001b[0m\u001b[1;33m,\u001b[0m\u001b[1;36m34\u001b[0m\u001b[1;33m,\u001b[0m\u001b[1;36m56\u001b[0m\u001b[1;33m,\u001b[0m\u001b[1;36m566\u001b[0m\u001b[1;33m,\u001b[0m\u001b[1;36m789\u001b[0m\u001b[1;33m,\u001b[0m\u001b[1;36m900\u001b[0m\u001b[1;33m)\u001b[0m\u001b[1;33m\u001b[0m\u001b[1;33m\u001b[0m\u001b[0m\n\u001b[0m",
      "\u001b[1;31mTypeError\u001b[0m: list.extend() takes exactly one argument (6 given)"
     ]
    }
   ],
   "source": [
    "p.extend(12,34,56,566,789,900)"
   ]
  },
  {
   "cell_type": "code",
   "execution_count": 9,
   "id": "db238967",
   "metadata": {},
   "outputs": [
    {
     "data": {
      "text/plain": [
       "[12, 34, 455, 500, 667, 'python', 'java', 234, 507789, 'enghish']"
      ]
     },
     "execution_count": 9,
     "metadata": {},
     "output_type": "execute_result"
    }
   ],
   "source": [
    "p"
   ]
  },
  {
   "cell_type": "code",
   "execution_count": 10,
   "id": "02b78f33",
   "metadata": {},
   "outputs": [
    {
     "ename": "TypeError",
     "evalue": "list.extend() takes exactly one argument (5 given)",
     "output_type": "error",
     "traceback": [
      "\u001b[1;31m---------------------------------------------------------------------------\u001b[0m",
      "\u001b[1;31mTypeError\u001b[0m                                 Traceback (most recent call last)",
      "\u001b[1;32m~\\AppData\\Local\\Temp\\ipykernel_2284\\2724953250.py\u001b[0m in \u001b[0;36m<module>\u001b[1;34m\u001b[0m\n\u001b[1;32m----> 1\u001b[1;33m \u001b[0mp\u001b[0m\u001b[1;33m.\u001b[0m\u001b[0mextend\u001b[0m\u001b[1;33m(\u001b[0m\u001b[1;36m12\u001b[0m\u001b[1;33m,\u001b[0m\u001b[1;36m34\u001b[0m\u001b[1;33m,\u001b[0m\u001b[1;36m56\u001b[0m\u001b[1;33m,\u001b[0m\u001b[1;36m677\u001b[0m\u001b[1;33m,\u001b[0m\u001b[1;36m889\u001b[0m\u001b[1;33m)\u001b[0m\u001b[1;33m\u001b[0m\u001b[1;33m\u001b[0m\u001b[0m\n\u001b[0m",
      "\u001b[1;31mTypeError\u001b[0m: list.extend() takes exactly one argument (5 given)"
     ]
    }
   ],
   "source": [
    "p.extend(12,34,56,677,889)"
   ]
  },
  {
   "cell_type": "code",
   "execution_count": 11,
   "id": "fc344c0b",
   "metadata": {},
   "outputs": [],
   "source": [
    "p.extend([23,45,6754,5878])"
   ]
  },
  {
   "cell_type": "code",
   "execution_count": 12,
   "id": "791e3f7d",
   "metadata": {},
   "outputs": [
    {
     "data": {
      "text/plain": [
       "[12,\n",
       " 34,\n",
       " 455,\n",
       " 500,\n",
       " 667,\n",
       " 'python',\n",
       " 'java',\n",
       " 234,\n",
       " 507789,\n",
       " 'enghish',\n",
       " 23,\n",
       " 45,\n",
       " 6754,\n",
       " 5878]"
      ]
     },
     "execution_count": 12,
     "metadata": {},
     "output_type": "execute_result"
    }
   ],
   "source": [
    "p"
   ]
  },
  {
   "cell_type": "code",
   "execution_count": 13,
   "id": "8fd4509e",
   "metadata": {},
   "outputs": [],
   "source": [
    "p1 = [12,34,45,6,777,890,'python','java','scodeen']"
   ]
  },
  {
   "cell_type": "code",
   "execution_count": 14,
   "id": "77646801",
   "metadata": {},
   "outputs": [
    {
     "data": {
      "text/plain": [
       "[12, 34, 45, 6, 777, 890, 'python', 'java', 'scodeen']"
      ]
     },
     "execution_count": 14,
     "metadata": {},
     "output_type": "execute_result"
    }
   ],
   "source": [
    "p1\n"
   ]
  },
  {
   "cell_type": "code",
   "execution_count": 15,
   "id": "13518bff",
   "metadata": {},
   "outputs": [],
   "source": [
    "p1.remove(777)"
   ]
  },
  {
   "cell_type": "code",
   "execution_count": 16,
   "id": "21d53b9e",
   "metadata": {},
   "outputs": [
    {
     "data": {
      "text/plain": [
       "[12, 34, 45, 6, 890, 'python', 'java', 'scodeen']"
      ]
     },
     "execution_count": 16,
     "metadata": {},
     "output_type": "execute_result"
    }
   ],
   "source": [
    "p1"
   ]
  },
  {
   "cell_type": "code",
   "execution_count": 17,
   "id": "aa5181a1",
   "metadata": {},
   "outputs": [
    {
     "data": {
      "text/plain": [
       "6"
      ]
     },
     "execution_count": 17,
     "metadata": {},
     "output_type": "execute_result"
    }
   ],
   "source": [
    "p1.pop(3)"
   ]
  },
  {
   "cell_type": "code",
   "execution_count": 18,
   "id": "dcbdcbdf",
   "metadata": {},
   "outputs": [
    {
     "data": {
      "text/plain": [
       "[12, 34, 45, 890, 'python', 'java', 'scodeen']"
      ]
     },
     "execution_count": 18,
     "metadata": {},
     "output_type": "execute_result"
    }
   ],
   "source": [
    "p1"
   ]
  },
  {
   "cell_type": "code",
   "execution_count": 19,
   "id": "15c06919",
   "metadata": {},
   "outputs": [],
   "source": [
    "p1.clear()"
   ]
  },
  {
   "cell_type": "code",
   "execution_count": 20,
   "id": "ea39be7a",
   "metadata": {},
   "outputs": [
    {
     "data": {
      "text/plain": [
       "[]"
      ]
     },
     "execution_count": 20,
     "metadata": {},
     "output_type": "execute_result"
    }
   ],
   "source": [
    "p1"
   ]
  },
  {
   "cell_type": "code",
   "execution_count": 21,
   "id": "3a6f602d",
   "metadata": {},
   "outputs": [
    {
     "data": {
      "text/plain": [
       "[]"
      ]
     },
     "execution_count": 21,
     "metadata": {},
     "output_type": "execute_result"
    }
   ],
   "source": [
    "p1"
   ]
  },
  {
   "cell_type": "code",
   "execution_count": 22,
   "id": "5e93fba6",
   "metadata": {},
   "outputs": [],
   "source": [
    "p2 = [12,76,56,89,988,33,345,56778,'hdgf','sffb']"
   ]
  },
  {
   "cell_type": "code",
   "execution_count": 23,
   "id": "296cf53b",
   "metadata": {},
   "outputs": [
    {
     "data": {
      "text/plain": [
       "[12, 76, 56, 89, 988, 33, 345, 56778, 'hdgf', 'sffb']"
      ]
     },
     "execution_count": 23,
     "metadata": {},
     "output_type": "execute_result"
    }
   ],
   "source": [
    "p2"
   ]
  },
  {
   "cell_type": "code",
   "execution_count": 24,
   "id": "e8cd63b9",
   "metadata": {},
   "outputs": [
    {
     "data": {
      "text/plain": [
       "1"
      ]
     },
     "execution_count": 24,
     "metadata": {},
     "output_type": "execute_result"
    }
   ],
   "source": [
    "p2.count(12)"
   ]
  },
  {
   "cell_type": "code",
   "execution_count": 25,
   "id": "8250e7e1",
   "metadata": {},
   "outputs": [
    {
     "data": {
      "text/plain": [
       "2"
      ]
     },
     "execution_count": 25,
     "metadata": {},
     "output_type": "execute_result"
    }
   ],
   "source": [
    "p2.index(56)"
   ]
  },
  {
   "cell_type": "code",
   "execution_count": 26,
   "id": "eb1783a6",
   "metadata": {},
   "outputs": [
    {
     "ename": "TypeError",
     "evalue": "'<' not supported between instances of 'str' and 'int'",
     "output_type": "error",
     "traceback": [
      "\u001b[1;31m---------------------------------------------------------------------------\u001b[0m",
      "\u001b[1;31mTypeError\u001b[0m                                 Traceback (most recent call last)",
      "\u001b[1;32m~\\AppData\\Local\\Temp\\ipykernel_2284\\3199225895.py\u001b[0m in \u001b[0;36m<module>\u001b[1;34m\u001b[0m\n\u001b[1;32m----> 1\u001b[1;33m \u001b[0mp2\u001b[0m\u001b[1;33m.\u001b[0m\u001b[0msort\u001b[0m\u001b[1;33m(\u001b[0m\u001b[1;33m)\u001b[0m\u001b[1;33m\u001b[0m\u001b[1;33m\u001b[0m\u001b[0m\n\u001b[0m",
      "\u001b[1;31mTypeError\u001b[0m: '<' not supported between instances of 'str' and 'int'"
     ]
    }
   ],
   "source": [
    "p2.sort()"
   ]
  },
  {
   "cell_type": "code",
   "execution_count": 27,
   "id": "deb021f9",
   "metadata": {},
   "outputs": [],
   "source": [
    "p3 = [12,34,56,78,54,12,324,567,456,43,546,789,934]"
   ]
  },
  {
   "cell_type": "code",
   "execution_count": 28,
   "id": "2e96f828",
   "metadata": {},
   "outputs": [
    {
     "data": {
      "text/plain": [
       "[12, 34, 56, 78, 54, 12, 324, 567, 456, 43, 546, 789, 934]"
      ]
     },
     "execution_count": 28,
     "metadata": {},
     "output_type": "execute_result"
    }
   ],
   "source": [
    "p3"
   ]
  },
  {
   "cell_type": "code",
   "execution_count": 33,
   "id": "93208c2f",
   "metadata": {},
   "outputs": [],
   "source": [
    "p = p3.copy()"
   ]
  },
  {
   "cell_type": "code",
   "execution_count": null,
   "id": "6021ace8",
   "metadata": {},
   "outputs": [],
   "source": []
  },
  {
   "cell_type": "code",
   "execution_count": 34,
   "id": "d986ed32",
   "metadata": {},
   "outputs": [],
   "source": [
    "p = [12,34,54,23,24,56,78,65,98,86]"
   ]
  },
  {
   "cell_type": "code",
   "execution_count": 35,
   "id": "9a536230",
   "metadata": {},
   "outputs": [
    {
     "data": {
      "text/plain": [
       "[12, 34, 54, 23, 24, 56, 78, 65, 98, 86]"
      ]
     },
     "execution_count": 35,
     "metadata": {},
     "output_type": "execute_result"
    }
   ],
   "source": [
    "p"
   ]
  },
  {
   "cell_type": "code",
   "execution_count": 36,
   "id": "574b8a87",
   "metadata": {},
   "outputs": [],
   "source": [
    "p.sort()"
   ]
  },
  {
   "cell_type": "code",
   "execution_count": 37,
   "id": "54f40eb7",
   "metadata": {},
   "outputs": [
    {
     "data": {
      "text/plain": [
       "[12, 23, 24, 34, 54, 56, 65, 78, 86, 98]"
      ]
     },
     "execution_count": 37,
     "metadata": {},
     "output_type": "execute_result"
    }
   ],
   "source": [
    "p\n"
   ]
  },
  {
   "cell_type": "code",
   "execution_count": 38,
   "id": "fd42a47f",
   "metadata": {},
   "outputs": [],
   "source": [
    "p.sort(reverse=True)"
   ]
  },
  {
   "cell_type": "code",
   "execution_count": 39,
   "id": "3f0264aa",
   "metadata": {},
   "outputs": [
    {
     "data": {
      "text/plain": [
       "[98, 86, 78, 65, 56, 54, 34, 24, 23, 12]"
      ]
     },
     "execution_count": 39,
     "metadata": {},
     "output_type": "execute_result"
    }
   ],
   "source": [
    "p"
   ]
  },
  {
   "cell_type": "code",
   "execution_count": 40,
   "id": "4c003ab8",
   "metadata": {},
   "outputs": [],
   "source": [
    "p3 = p.copy()"
   ]
  },
  {
   "cell_type": "code",
   "execution_count": 41,
   "id": "74701466",
   "metadata": {},
   "outputs": [
    {
     "data": {
      "text/plain": [
       "[98, 86, 78, 65, 56, 54, 34, 24, 23, 12]"
      ]
     },
     "execution_count": 41,
     "metadata": {},
     "output_type": "execute_result"
    }
   ],
   "source": [
    "p3"
   ]
  },
  {
   "cell_type": "code",
   "execution_count": 42,
   "id": "c095a88d",
   "metadata": {},
   "outputs": [],
   "source": [
    "p3.append(35)"
   ]
  },
  {
   "cell_type": "code",
   "execution_count": 43,
   "id": "c5a454b7",
   "metadata": {},
   "outputs": [
    {
     "data": {
      "text/plain": [
       "[98, 86, 78, 65, 56, 54, 34, 24, 23, 12]"
      ]
     },
     "execution_count": 43,
     "metadata": {},
     "output_type": "execute_result"
    }
   ],
   "source": [
    "p"
   ]
  },
  {
   "cell_type": "code",
   "execution_count": 44,
   "id": "b89f7999",
   "metadata": {},
   "outputs": [
    {
     "data": {
      "text/plain": [
       "[98, 86, 78, 65, 56, 54, 34, 24, 23, 12, 35]"
      ]
     },
     "execution_count": 44,
     "metadata": {},
     "output_type": "execute_result"
    }
   ],
   "source": [
    "p3"
   ]
  },
  {
   "cell_type": "code",
   "execution_count": 45,
   "id": "abc3c785",
   "metadata": {},
   "outputs": [
    {
     "data": {
      "text/plain": [
       "[98, 86, 78, 65, 56, 54, 34, 24, 23, 12]"
      ]
     },
     "execution_count": 45,
     "metadata": {},
     "output_type": "execute_result"
    }
   ],
   "source": [
    "p"
   ]
  },
  {
   "cell_type": "code",
   "execution_count": null,
   "id": "542fd9e3",
   "metadata": {},
   "outputs": [],
   "source": []
  }
 ],
 "metadata": {
  "kernelspec": {
   "display_name": "Python 3 (ipykernel)",
   "language": "python",
   "name": "python3"
  },
  "language_info": {
   "codemirror_mode": {
    "name": "ipython",
    "version": 3
   },
   "file_extension": ".py",
   "mimetype": "text/x-python",
   "name": "python",
   "nbconvert_exporter": "python",
   "pygments_lexer": "ipython3",
   "version": "3.9.13"
  }
 },
 "nbformat": 4,
 "nbformat_minor": 5
}
